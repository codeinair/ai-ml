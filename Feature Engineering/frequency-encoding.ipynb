{
 "metadata": {
  "language_info": {
   "codemirror_mode": {
    "name": "ipython",
    "version": 3
   },
   "file_extension": ".py",
   "mimetype": "text/x-python",
   "name": "python",
   "nbconvert_exporter": "python",
   "pygments_lexer": "ipython3",
   "version": "3.9.1"
  },
  "orig_nbformat": 2,
  "kernelspec": {
   "name": "python391jvsc74a57bd0ac2eaa0ea0ebeafcc7822e65e46aa9d4f966f30b695406963e145ea4a91cd4fc",
   "display_name": "Python 3.9.1 64-bit ('python@3.9')"
  },
  "metadata": {
   "interpreter": {
    "hash": "ac2eaa0ea0ebeafcc7822e65e46aa9d4f966f30b695406963e145ea4a91cd4fc"
   }
  }
 },
 "nbformat": 4,
 "nbformat_minor": 2,
 "cells": [
  {
   "source": [
    "# Label encoding - Frequency encoding"
   ],
   "cell_type": "markdown",
   "metadata": {}
  },
  {
   "cell_type": "code",
   "execution_count": 1,
   "metadata": {},
   "outputs": [],
   "source": [
    "import pandas as pd\n",
    "import numpy as np"
   ]
  },
  {
   "cell_type": "code",
   "execution_count": 2,
   "metadata": {},
   "outputs": [],
   "source": [
    "dataset = pd.read_csv(\"data/Mercedes Benz/train.csv\", usecols=[\"X1\", \"X2\"])"
   ]
  },
  {
   "cell_type": "code",
   "execution_count": 3,
   "metadata": {},
   "outputs": [],
   "source": [
    "def unique_values(dataset):\n",
    "    for col in dataset.columns:\n",
    "        print(col , ': ' , len(dataset[col].unique()), ' labels')"
   ]
  },
  {
   "cell_type": "code",
   "execution_count": 4,
   "metadata": {},
   "outputs": [],
   "source": [
    "def value_frequency(df):\n",
    "    dict_obj ={}\n",
    "    for col in df.columns:\n",
    "         dict_obj[col] = dataset[col].value_counts().to_dict()\n",
    "    return dict_obj\n"
   ]
  },
  {
   "cell_type": "code",
   "execution_count": 5,
   "metadata": {},
   "outputs": [],
   "source": [
    "def frequency_encoding(dataset):\n",
    "    dict_obj = value_frequency(dataset)\n",
    "    for col in dataset.columns:\n",
    "        dataset[col+ '_freqEcd'] = dataset[col].map(dict_obj[col])\n"
   ]
  },
  {
   "cell_type": "code",
   "execution_count": 6,
   "metadata": {},
   "outputs": [
    {
     "output_type": "stream",
     "name": "stdout",
     "text": [
      "X1 :  27  labels\nX2 :  44  labels\n"
     ]
    }
   ],
   "source": [
    "unique_values(dataset)"
   ]
  },
  {
   "cell_type": "code",
   "execution_count": 7,
   "metadata": {},
   "outputs": [],
   "source": [
    "frequency_encoding(dataset)"
   ]
  },
  {
   "cell_type": "code",
   "execution_count": 8,
   "metadata": {},
   "outputs": [
    {
     "output_type": "stream",
     "name": "stdout",
     "text": [
      "X1 :  27  labels\nX2 :  44  labels\nX1_freqEcd :  24  labels\nX2_freqEcd :  29  labels\n"
     ]
    }
   ],
   "source": [
    "unique_values(dataset)"
   ]
  },
  {
   "source": [
    "### --> from above technique we can see that uniqueness has been lost after frequency encoding also ordinal characteristic is been introduced"
   ],
   "cell_type": "markdown",
   "metadata": {}
  }
 ]
}