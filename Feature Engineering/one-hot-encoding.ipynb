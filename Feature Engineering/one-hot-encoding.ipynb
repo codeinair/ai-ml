{
 "cells": [
  {
   "cell_type": "markdown",
   "metadata": {},
   "source": [
    "# One Hot Encoding\n",
    "\n",
    "### Data Set: https://www.kaggle.com/aditya1702/mercedes-benz-data-exploration/data\n"
   ]
  },
  {
   "cell_type": "code",
   "execution_count": null,
   "metadata": {},
   "outputs": [],
   "source": [
    "import pandas as pd\n",
    "import numpy as np"
   ]
  },
  {
   "cell_type": "code",
   "execution_count": null,
   "metadata": {},
   "outputs": [],
   "source": [
    "traindf = pd.read_csv('https://stindatasamples.blob.core.windows.net/ai-ml-data/mercedes-benz/train.csv',usecols=['X1','X2','X3','X4','X5','X6'])\n",
    "print('Shape: ', traindf.shape)"
   ]
  },
  {
   "cell_type": "code",
   "execution_count": null,
   "metadata": {},
   "outputs": [],
   "source": [
    "traindf.head()"
   ]
  },
  {
   "cell_type": "markdown",
   "metadata": {},
   "source": [
    "## Counting unique labels under all columns"
   ]
  },
  {
   "cell_type": "code",
   "execution_count": null,
   "metadata": {},
   "outputs": [],
   "source": [
    "_colSize = 0\n",
    "for col in traindf.columns:\n",
    "    print(col, ': ', len(traindf[col].unique()), ' labels')\n",
    "    _colSize += len(traindf[col].unique())\n",
    "print('Total possible cols: ', _colSize)"
   ]
  },
  {
   "cell_type": "markdown",
   "metadata": {},
   "source": [
    "## One hot ecoding using pandas\n",
    "\n",
    "#### Column X2 is selected for one hot encoding. \n",
    "#### So, this will result in 44 additional columns added to our train dataset. "
   ]
  },
  {
   "cell_type": "code",
   "execution_count": null,
   "metadata": {},
   "outputs": [],
   "source": [
    "pd.get_dummies(traindf,prefix='X2',prefix_sep='_', columns=['X2']).head()"
   ]
  },
  {
   "cell_type": "markdown",
   "metadata": {},
   "source": [
    "## Defining a function to perform one hot encoding\n",
    " \n",
    "Our function would accept \n",
    "1. Data frame,\n",
    "2. Column name in an array,\n",
    "3. Top - Value representing x top values to be considered for one hot encoding"
   ]
  },
  {
   "cell_type": "code",
   "execution_count": null,
   "metadata": {},
   "outputs": [],
   "source": [
    "# one hot encoding function\n",
    "def one_hot_encoding(df, columns: [], top = -1):\n",
    "    for col in columns:\n",
    "        if(top != -1):\n",
    "            labels = [x for x in (df[col]).value_counts().head(top).index]\n",
    "        else:\n",
    "            labels = df[col].unique()\n",
    "        for label in labels:\n",
    "            df[col + \"_\" +label] = np.where(df[col] == label,1,0)\n",
    "    "
   ]
  },
  {
   "cell_type": "markdown",
   "metadata": {},
   "source": [
    "#### Selecting only top ranked values for encoding helps reduce column size."
   ]
  },
  {
   "cell_type": "code",
   "execution_count": null,
   "metadata": {},
   "outputs": [],
   "source": [
    "one_hot_encoding(traindf, [\"X3\",\"X4\"], top=2)"
   ]
  },
  {
   "cell_type": "code",
   "execution_count": null,
   "metadata": {},
   "outputs": [],
   "source": [
    "traindf.head()"
   ]
  }
 ],
 "metadata": {
  "kernelspec": {
   "display_name": "Python 3",
   "language": "python",
   "name": "python3"
  },
  "language_info": {
   "codemirror_mode": {
    "name": "ipython",
    "version": 3
   },
   "file_extension": ".py",
   "mimetype": "text/x-python",
   "name": "python",
   "nbconvert_exporter": "python",
   "pygments_lexer": "ipython3",
   "version": "3.11.0"
  },
  "orig_nbformat": 2,
  "vscode": {
   "interpreter": {
    "hash": "5238573367df39f7286bb46f9ff5f08f63a01a80960060ce41e3c79b190280fa"
   }
  }
 },
 "nbformat": 4,
 "nbformat_minor": 2
}
